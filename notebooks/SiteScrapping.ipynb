{
 "cells": [
  {
   "cell_type": "code",
   "execution_count": 27,
   "metadata": {
    "collapsed": true,
    "pycharm": {
     "name": "#%%\n",
     "is_executing": false
    }
   },
   "outputs": [],
   "source": [
    "from bs4 import BeautifulSoup\n",
    "import requests\n",
    "import logging\n",
    "import multiprocessing.dummy as mp\n",
    "import os"
   ]
  },
  {
   "cell_type": "markdown",
   "source": [
    "Пишем функции для получения URL фильмов"
   ],
   "metadata": {
    "collapsed": false,
    "pycharm": {
     "name": "#%% md\n"
    }
   }
  },
  {
   "cell_type": "code",
   "execution_count": 28,
   "outputs": [],
   "source": [
    "def get_urls_from_afisha(base_url):\n",
    "    response = requests.get(base_url)\n",
    "    soup = BeautifulSoup(response.text, 'html.parser')\n",
    "    films = soup.findAll('li', {'class': 'lists__li'})\n",
    "    return set(filter(None, map(lambda x: get_urls_function(x, 'name'), films)))\n",
    "\n",
    "\n",
    "def get_urls_function(x, class_name):\n",
    "    href_list = x.findAll('a', {'class': class_name})\n",
    "    if len(href_list) != 0:\n",
    "        current_url = href_list[0]['href']\n",
    "        if current_url.find(\"https://afisha.tut.by/film\") != -1:\n",
    "            return href_list[0]['href']\n",
    "\n",
    "\n",
    "def get_urls_from_online_cinema(base_url):\n",
    "    return get_urls_from_online_cinema_page(base_url, set())\n",
    "\n",
    "\n",
    "def get_urls_from_online_cinema_page(url, result_data):\n",
    "    response = requests.get(url)\n",
    "    soup = BeautifulSoup(response.text, 'html.parser')\n",
    "    films = soup.findAll('li', {'class': 'lists__li'})\n",
    "    urls = set(filter(None, map(lambda x: get_urls_function(x, 'media'), films)))\n",
    "    result_data = result_data.union(urls)\n",
    "    next_button = soup.find('li', {'class', 'p-next'}).find('a')\n",
    "    if next_button is not None:\n",
    "        next_url = next_button['href']\n",
    "        return get_urls_from_online_cinema_page(next_url, result_data)\n",
    "    else:\n",
    "        return result_data\n",
    "\n",
    "\n",
    "def get_urls_from_afisha_and_online_cinema(base_url_afisha, base_url_online_films):\n",
    "    online = get_urls_from_online_cinema(base_url_online_films)\n",
    "    afisha = get_urls_from_afisha(base_url_afisha)\n",
    "    return afisha.union(online)"
   ],
   "metadata": {
    "collapsed": false,
    "pycharm": {
     "name": "#%%\n",
     "is_executing": false
    }
   }
  },
  {
   "cell_type": "markdown",
   "source": [
    "\n",
    "Получаем все ссылки на фильмы c афишы и онлайн кинотеатра"
   ],
   "metadata": {
    "collapsed": false
   }
  },
  {
   "cell_type": "code",
   "execution_count": 29,
   "outputs": [
    {
     "name": "stderr",
     "text": [
      "INFO:root:Number of films 88\n"
     ],
     "output_type": "stream"
    }
   ],
   "source": [
    "\n",
    "\n",
    "logging.basicConfig(level=logging.INFO)    \n",
    "base_url_afisha = 'https://afisha.tut.by/film/'\n",
    "base_url_online_cinema='https://afisha.tut.by/online-cinema/'\n",
    "urlsOfFilms=get_urls_from_afisha_and_online_cinema(base_url_afisha,base_url_online_cinema)\n",
    "logging.info(\"Number of films \"+str(len(urlsOfFilms)))"
   ],
   "metadata": {
    "collapsed": false,
    "pycharm": {
     "name": "#%%\n",
     "is_executing": false
    }
   }
  },
  {
   "cell_type": "markdown",
   "source": [
    "Пишем функции для парсинга отдельных элементов страницы"
   ],
   "metadata": {
    "collapsed": false,
    "pycharm": {
     "name": "#%% md\n"
    }
   }
  },
  {
   "cell_type": "code",
   "execution_count": 30,
   "outputs": [],
   "source": [
    "def get_film_name(parsed_film_page):\n",
    "    return parsed_film_page.findAll('h1', {'class': 'title'})[0].getText().rstrip()\n",
    "\n",
    "\n",
    "def is_premiere(parsed_film_page):\n",
    "    label = parsed_film_page.find('div', {'class': 'title__labels'}).findAll('span', {'class': 'label'})\n",
    "    for val in label:\n",
    "        if val.getText() == \"Премьера\":\n",
    "            return True\n",
    "    return False\n",
    "\n",
    "\n",
    "def get_film_age_rank(parsed_film_page):\n",
    "    label = parsed_film_page.find('div', {'class': 'title__labels'}).findAll('span', {'class': 'label'})\n",
    "    for val in label:\n",
    "        if val.getText().find(\"+\") != -1:\n",
    "            return val.getText()\n",
    "    return \"none\"\n",
    "\n",
    "\n",
    "def get_native_film_name(parsed_film_page):\n",
    "    label = parsed_film_page.find('div', {'class': 'sub_title'})\n",
    "    if label is not None:\n",
    "        return label.getText()\n",
    "    return \"none\"\n",
    "\n",
    "\n",
    "def get_poster_url(parsed_film_page):\n",
    "    return parsed_film_page.find('img', {'class': 'main_image'})[\"src\"]\n",
    "\n",
    "\n",
    "def get_genre(parsed_film_page):\n",
    "    genres = parsed_film_page.findAll('a', {'itemprop': 'genre'})\n",
    "    genres_dict = {}\n",
    "    for genre in genres:\n",
    "        genres_dict[genre.getText()] = {\"name\": genre.getText(), \"url\": genre[\"href\"]}\n",
    "    return genres_dict\n",
    "\n",
    "\n",
    "def get_set_values(text):\n",
    "    return set(text.split(\", \"))\n",
    "\n",
    "\n",
    "def get_table_field_set(parsed_film_page, field_name):\n",
    "    td = parsed_film_page.find('td', {'class': field_name})\n",
    "    if td is not None:\n",
    "        text = td.getText()\n",
    "        return get_set_values(text)\n",
    "    return set()\n",
    "\n",
    "\n",
    "def get_table_field_single(parsed_film_page, field_name):\n",
    "    td = parsed_film_page.find('td', {'class': field_name})\n",
    "    if td is not None:\n",
    "        return td.getText()\n",
    "    return \"none\"\n",
    "\n",
    "\n",
    "def get_table_field_single_with_url(parsed_film_page, field_name):\n",
    "    td = parsed_film_page.find('td', {'class': field_name})\n",
    "    if td is not None:\n",
    "        a_tag = td.find('a')\n",
    "        if a_tag is not None:\n",
    "            return {\"data\": a_tag.getText(), \"url\": a_tag[\"href\"]}\n",
    "        return {\"data\": td.getText(), \"url\": \"none\"}\n",
    "    return {\"data\": \"none\", \"url\": \"none\"}\n",
    "\n",
    "\n",
    "def get_year_of_film(parsed_film_page):\n",
    "    return get_table_field_single_with_url(parsed_film_page, 'year')\n",
    "\n",
    "\n",
    "def get_duration(parsed_film_page):\n",
    "    return get_table_field_single(parsed_film_page, 'duration')\n",
    "\n",
    "\n",
    "def get_country(parsed_film_page):\n",
    "    return set(map(lambda x: x.strip(),get_table_field_set(parsed_film_page, 'author')))\n",
    "\n",
    "\n",
    "def get_showing_end_date(parsed_film_page):\n",
    "    end_date = get_table_field_single(parsed_film_page, 'date')\n",
    "    if end_date != \"none\":\n",
    "        return end_date.split(\"В прокате до \")[1]\n",
    "    return end_date\n",
    "\n",
    "\n",
    "def get_afisha_rating(parsed_film_page):\n",
    "    rating = parsed_film_page.find('span', {'class': 'rating-big__value'})\n",
    "    if rating is not None:\n",
    "        return rating.getText()\n",
    "    return \"none\"\n",
    "\n",
    "\n",
    "def get_not_afisha_rating(parsed_film_page, label):\n",
    "    rating_tag = parsed_film_page.find('td', {'class': 'IMDb'})\n",
    "    if rating_tag is not None:\n",
    "        ratings = rating_tag.findAll(\"b\")\n",
    "        for rating in ratings:\n",
    "            sibling = rating.findPreviousSibling('p')\n",
    "            if sibling.getText() == label:\n",
    "                return rating.getText()\n",
    "    return \"none\"\n",
    "\n",
    "\n",
    "def get_imdb_rating(parsed_film_page):\n",
    "    return get_not_afisha_rating(parsed_film_page, 'Рейтинг IMDb')\n",
    "\n",
    "\n",
    "def get_kinopoisk_rating(parsed_film_page):\n",
    "    return get_not_afisha_rating(parsed_film_page, 'Кинопоиск')\n",
    "\n",
    "\n",
    "def get_ratings(parsed_film_page):\n",
    "    return {\"afisha\": get_afisha_rating(parsed_film_page), \"imdb\": get_imdb_rating(parsed_film_page),\n",
    "            \"kinopoisk\": get_afisha_rating(parsed_film_page)}\n",
    "\n",
    "\n",
    "def persons_from_string(p_tag, selector_text):\n",
    "    persons = {}\n",
    "    a_tags = p_tag.findAll('a')\n",
    "    for a_tag in a_tags:\n",
    "        name = a_tag.getText()\n",
    "        persons[name] = {\"name\": name, \"additional_information\": a_tag['href']}\n",
    "        a_tag.extract()\n",
    "    names = filter(lambda x: x != \"\", p_tag.getText().split(selector_text + \" \")[1].split(\", \"))\n",
    "    for name in names:\n",
    "        persons[name] = {\"name\": name, \"additional_information\": \"none\"}\n",
    "    return persons\n",
    "\n",
    "\n",
    "def get_director(parsed_film_page):\n",
    "    previous_sibling = parsed_film_page.find('table', {'class': 'movie_info'})\n",
    "    p_tag = previous_sibling.findNextSibling('p')\n",
    "    if p_tag is not None:\n",
    "        if p_tag.getText().find(\"Режиссер:\") != -1:\n",
    "            return persons_from_string(p_tag, \"Режиссер:\")\n",
    "    return {}\n",
    "\n",
    "\n",
    "def get_actors(parsed_film_page):\n",
    "    previous_sibling = parsed_film_page.find('table', {'class': 'movie_info'})\n",
    "    p_tags = previous_sibling.findNextSiblings('p', limit=2)\n",
    "    for p_tag in p_tags:\n",
    "        if p_tag is not None:\n",
    "            if p_tag.getText().find(\"В ролях:\") != -1:\n",
    "                return persons_from_string(p_tag, \"В ролях:\")\n",
    "    return {}\n",
    "\n",
    "\n",
    "def get_description(parsed_film_page):\n",
    "    description_div = parsed_film_page.find('div', {'itemprop': 'description'})\n",
    "    if description_div is not None:\n",
    "        siblings = description_div.findAll()\n",
    "        for sibling in siblings:\n",
    "            sibling.extract()\n",
    "        return description_div.getText().replace(\"\\n\", \"\").replace(\"\\t\", \"\").strip()\n",
    "    return \"none\"\n",
    "\n",
    "\n",
    "def get_film_videos(parsed_film_page):\n",
    "    media_div = parsed_film_page.find('div', {'id': 'event-photos'})\n",
    "    if media_div is not None:\n",
    "        result = set()\n",
    "        video_frames = media_div.findAll('a', {'data-action': 'iframe'})\n",
    "        for video_frame in video_frames:\n",
    "            result.add(video_frame[\"href\"])\n",
    "        return result\n",
    "    return set()\n",
    "\n",
    "\n",
    "def get_film_images(parsed_film_page):\n",
    "    media_div = parsed_film_page.find('div', {'id': 'event-photos'})\n",
    "    if media_div is not None:\n",
    "        result = set()\n",
    "        video_frames = media_div.findAll('img')\n",
    "        for video_frame in video_frames:\n",
    "            result.add(video_frame[\"src\"])\n",
    "        return result\n",
    "    return set()\n"
   ],
   "metadata": {
    "collapsed": false,
    "pycharm": {
     "name": "#%%\n",
     "is_executing": false
    }
   }
  },
  {
   "cell_type": "markdown",
   "source": [
    "\n",
    "Пишем функцию для парсинга страницы"
   ],
   "metadata": {
    "collapsed": false
   }
  },
  {
   "cell_type": "code",
   "execution_count": 31,
   "outputs": [],
   "source": [
    "def parse_film_page(url):\n",
    "    logging.info(url)\n",
    "    response_of_film_page = requests.get(url)\n",
    "    parsed_film_page = BeautifulSoup(response_of_film_page.text, 'html.parser')\n",
    "    name = get_film_name(parsed_film_page)\n",
    "    data = {'url': url, 'name': name}  # set name and url of film\n",
    "    data['is_premiere'] = is_premiere(parsed_film_page)  # is this film premiere\n",
    "    data['age_rank'] = get_film_age_rank(parsed_film_page)  # age rank  (16+ and etc.)\n",
    "    data['native_film_name'] = get_native_film_name(parsed_film_page)  # name of film in original\n",
    "    data['poster_url'] = get_poster_url(parsed_film_page)  # url to film poster\n",
    "    data['genres'] = get_genre(parsed_film_page)  # genres of film\n",
    "    data['year'] = get_year_of_film(parsed_film_page)  # year of creation\n",
    "    data['duration'] = get_duration(parsed_film_page)  # duration\n",
    "    data['countries'] = get_country(parsed_film_page)  # countries \n",
    "    data['showing_end_date'] = get_showing_end_date(parsed_film_page)  # end date of showing in theaters\n",
    "    data['desription'] = get_description(parsed_film_page)  # text description of film\n",
    "    data['ratings'] = get_ratings(parsed_film_page)  # ratings\n",
    "    data['directors'] = get_director(parsed_film_page)  # directors of film and link for additional director information\n",
    "    data['actors'] = get_actors(parsed_film_page)  # actors  and link for additional actors information\n",
    "    data['film_videos'] = get_film_videos(parsed_film_page)  # urls to videos of film (trailer and etc.)\n",
    "    data['film_images'] = get_film_images(parsed_film_page)  # urls to images of film \n",
    "    return name, data"
   ],
   "metadata": {
    "collapsed": false,
    "pycharm": {
     "name": "#%%\n",
     "is_executing": false
    }
   }
  },
  {
   "cell_type": "markdown",
   "source": [
    "\n",
    "Пишем функцию для парсинга страниц"
   ],
   "metadata": {
    "collapsed": false
   }
  },
  {
   "cell_type": "code",
   "execution_count": 32,
   "outputs": [],
   "source": [
    "def parse_all_pages(urls):\n",
    "    cores_num=os.cpu_count()\n",
    "    logging.info(\"***************************START*****************************\")\n",
    "    p=mp.Pool(cores_num)\n",
    "    parsed_pages=dict(p.map(parse_film_page,urls))\n",
    "    logging.info(\"***************************END*****************************\")\n",
    "    return parsed_pages"
   ],
   "metadata": {
    "collapsed": false,
    "pycharm": {
     "name": "#%%\n",
     "is_executing": false
    }
   }
  },
  {
   "cell_type": "markdown",
   "source": [
    "\n",
    "Парсим страницы"
   ],
   "metadata": {
    "collapsed": false
   }
  },
  {
   "cell_type": "code",
   "execution_count": 33,
   "outputs": [
    {
     "name": "stderr",
     "text": [
      "INFO:root:***************************START*****************************\n",
      "INFO:root:https://afisha.tut.by/film/maleficent_mistress_of_evil_ru_sub/\n",
      "INFO:root:https://afisha.tut.by/film/joker-film/\n",
      "INFO:root:https://afisha.tut.by/film/metallica_i_simfonicheskiy_orkestr_san_francisko_s_m/\n",
      "INFO:root:https://afisha.tut.by/film/gemini/?utm_source=afisha.tut.by&utm_medium=event_recirculation&utm_campaign=top3\n",
      "INFO:root:https://afisha.tut.by/film/metallica_i_simfonicheskiy_orkestr_san_francisko_s_m/?utm_source=afisha.tut.by&utm_medium=films&utm_campaign=premiere_block\n",
      "INFO:root:https://afisha.tut.by/film/ty-umeesh-khranit-sekrety/\n",
      "INFO:root:https://afisha.tut.by/film/once-upon-a-time-in-hollywood/\n",
      "INFO:root:https://afisha.tut.by/film/k-zvezdam/\n",
      "INFO:root:https://afisha.tut.by/film/muzey-prado-kollekciya-chudes/\n",
      "INFO:root:https://afisha.tut.by/film/terminator_dark_fate_ru_sub/\n",
      "INFO:root:https://afisha.tut.by/film/kokosha_malenkiy_drakon/\n",
      "INFO:root:https://afisha.tut.by/film/vertinskiy-odinokiy-strannik/\n",
      "INFO:root:https://afisha.tut.by/film/korol-lev/\n",
      "INFO:root:https://afisha.tut.by/film/dzhudi-2019/\n",
      "INFO:root:https://afisha.tut.by/film/theatrehd-veer-ledi-uindermir-spektakl/\n",
      "INFO:root:https://afisha.tut.by/film/promar/\n",
      "INFO:root:https://afisha.tut.by/film/tim-taler-ili-prodannyy-smekh/\n",
      "INFO:root:https://afisha.tut.by/film/tekst/\n",
      "INFO:root:https://afisha.tut.by/film/theatrehd-kanova/\n",
      "INFO:root:https://afisha.tut.by/film/gemini/\n",
      "INFO:root:https://afisha.tut.by/film/oni/?utm_source=afisha.tut.by&utm_medium=films&utm_campaign=premiere_block\n",
      "INFO:root:https://afisha.tut.by/film/berlinskiy-feyskontrolshchik/\n",
      "INFO:root:https://afisha.tut.by/film/lyubi-ikh-vsekh/\n",
      "INFO:root:https://afisha.tut.by/film/18-blyud/\n",
      "INFO:root:https://afisha.tut.by/film/teen_sprints_master_klass_kak_prodvinut_proekt_kogda_v_karmane_0/\n",
      "INFO:root:https://afisha.tut.by/film/theatrehd-manon-1/\n",
      "INFO:root:https://afisha.tut.by/film/pj-harvey-a-dog-called-money/\n",
      "INFO:root:https://afisha.tut.by/film/studiya-54/\n",
      "INFO:root:https://afisha.tut.by/film/everest-film/\n",
      "INFO:root:https://afisha.tut.by/film/teen_sprints_master_klass_na_temu_kak_pridumat_i_potom_upravlyat_startapom_shkolniku/\n",
      "INFO:root:https://afisha.tut.by/film/teen_sprints_motiviruyushchaya_biznes_konferenciya_so_spikerami_podrostkami/\n",
      "INFO:root:https://afisha.tut.by/film/veselaya-ferma/\n",
      "INFO:root:https://afisha.tut.by/film/shakira_in_concert_el_dorado_world_tour/\n",
      "INFO:root:https://afisha.tut.by/film/arakhisovyy_sokol_predpremera_s_kinokritikom/\n",
      "INFO:root:https://afisha.tut.by/film/dozhdlivyy-den-v-nyu-yorke/?utm_source=afisha.tut.by&utm_medium=event_recirculation&utm_campaign=top3\n",
      "INFO:root:https://afisha.tut.by/film/theatrehd-sevilskiy-ciryulnik-sub/\n",
      "INFO:root:https://afisha.tut.by/film/podkidysh-2019/\n",
      "INFO:root:https://afisha.tut.by/film/theatrehd_turandot/\n",
      "INFO:root:https://afisha.tut.by/film/parazity/\n",
      "INFO:root:https://afisha.tut.by/film/bolevoy-porog/\n",
      "INFO:root:https://afisha.tut.by/film/bogema-1/\n",
      "INFO:root:https://afisha.tut.by/film/pobeg_iz_shoushenka_ru_sub/\n",
      "INFO:root:https://afisha.tut.by/film/theatrehd-dryan/\n",
      "INFO:root:https://afisha.tut.by/film/giroy/\n",
      "INFO:root:https://afisha.tut.by/film/chernye-brillianty/\n",
      "INFO:root:https://afisha.tut.by/film/dukh-baukhausa/\n",
      "INFO:root:https://afisha.tut.by/film/10_000_km_lyubov_na_rasstoyanii/\n",
      "INFO:root:https://afisha.tut.by/film/eto-ne-navsegda/\n",
      "INFO:root:https://afisha.tut.by/film/theatrehd-palladio-vlast-arkhitektury/\n",
      "INFO:root:https://afisha.tut.by/film/oni/\n",
      "INFO:root:https://afisha.tut.by/film/kapitan_semi_morey/\n",
      "INFO:root:https://afisha.tut.by/film/malefisenta-vladychica-tmy/?utm_source=afisha.tut.by&utm_medium=films&utm_campaign=premiere_block\n",
      "INFO:root:https://afisha.tut.by/film/dozhdlivyy-den-v-nyu-yorke/\n",
      "INFO:root:https://afisha.tut.by/film/koroli-intrigi/\n",
      "INFO:root:https://afisha.tut.by/film/malefisenta-vladychica-tmy/\n",
      "INFO:root:https://afisha.tut.by/film/taynyy-mir-anny/\n",
      "INFO:root:https://afisha.tut.by/film/matrica/\n",
      "INFO:root:https://afisha.tut.by/film/depeche_mode_spirits_in_the_forest/\n",
      "INFO:root:https://afisha.tut.by/film/matrica-sub/\n",
      "INFO:root:https://afisha.tut.by/film/raving-riot-reyv-u-parlamenta/\n",
      "INFO:root:https://afisha.tut.by/film/devushki-byvayut-raznye/\n",
      "INFO:root:https://afisha.tut.by/film/myl_ne_farmer_2019_v_kino/\n",
      "INFO:root:https://afisha.tut.by/film/cvety-2014/\n",
      "INFO:root:https://afisha.tut.by/film/dobycha-film/\n",
      "INFO:root:https://afisha.tut.by/film/kinonoch-v-zamke/\n",
      "INFO:root:https://afisha.tut.by/film/veneciya-zovet/\n",
      "INFO:root:https://afisha.tut.by/film/theatrehd_frankenshteyn_kamberbetch/\n",
      "INFO:root:https://afisha.tut.by/film/theatrehd-mudrye-deti/\n",
      "INFO:root:https://afisha.tut.by/film/ditya-pogody/?utm_source=afisha.tut.by&utm_medium=films&utm_campaign=premiere_block\n",
      "INFO:root:https://afisha.tut.by/film/theatrehd-leonardo-vsya-istoriya/\n",
      "INFO:root:https://afisha.tut.by/film/theatrehd-akram-khan-zhizel/\n",
      "INFO:root:https://afisha.tut.by/film/teatralnyy_klub_mera_za_meru/\n",
      "INFO:root:https://afisha.tut.by/film/leonardo-da-vinchi-neizvedannye-miry/\n",
      "INFO:root:https://afisha.tut.by/film/terminator-temnye-sudby/\n",
      "INFO:root:https://afisha.tut.by/film/retrospektiva-velikiy-tenor/\n",
      "INFO:root:https://afisha.tut.by/film/volshebnik-film/\n",
      "INFO:root:https://afisha.tut.by/film/belgiyskiy-fenomen/\n",
      "INFO:root:https://afisha.tut.by/film/theatrehd-bezumie-georga-iii/\n",
      "INFO:root:https://afisha.tut.by/film/bukashki-2/\n",
      "INFO:root:https://afisha.tut.by/film/everybody-in-the-place/\n",
      "INFO:root:https://afisha.tut.by/film/33-slova-o-dizayne/\n",
      "INFO:root:https://afisha.tut.by/film/joker_ru_sub/\n",
      "INFO:root:https://afisha.tut.by/film/noch-pozhirateley-anime/\n",
      "INFO:root:https://afisha.tut.by/film/theatrehd-trilogiya-bratev-leman-sub/\n",
      "INFO:root:https://afisha.tut.by/film/dozhdlivyy-den-v-nyu-yorke-sub/\n",
      "INFO:root:https://afisha.tut.by/film/kod-gias-lelush-voskresshiy/\n",
      "INFO:root:https://afisha.tut.by/film/terminator-temnye-sudby/?utm_source=afisha.tut.by&utm_medium=films&utm_campaign=premiere_block\n",
      "INFO:root:https://afisha.tut.by/film/theatrehd-raymonda/\n",
      "INFO:root:***************************END*****************************\n",
      "INFO:root:Prepared data for 82 films\n"
     ],
     "output_type": "stream"
    }
   ],
   "source": [
    "data=parse_all_pages(urlsOfFilms)\n",
    "logging.info(\"Prepared data for \"+str(len(data))+\" films\")\n"
   ],
   "metadata": {
    "collapsed": false,
    "pycharm": {
     "name": "#%%\n",
     "is_executing": false
    }
   }
  },
  {
   "cell_type": "markdown",
   "source": [
    "Выполняем следующее задание (от 05.10.2019)"
   ],
   "metadata": {
    "collapsed": false
   }
  },
  {
   "cell_type": "markdown",
   "source": [
    "Загружаем словарь в Spark DataFrame"
   ],
   "metadata": {
    "collapsed": false
   }
  },
  {
   "cell_type": "code",
   "execution_count": 34,
   "outputs": [],
   "source": [
    "from pyspark.sql import SparkSession\n",
    "from pyspark.sql.functions import explode\n",
    "\n",
    "import pandas as pd"
   ],
   "metadata": {
    "collapsed": false,
    "pycharm": {
     "name": "#%%\n",
     "is_executing": false
    }
   }
  },
  {
   "cell_type": "code",
   "execution_count": 35,
   "outputs": [],
   "source": [
    "spark = SparkSession.builder \\\n",
    "     .appName(\"load data\") \\\n",
    "     .getOrCreate()\n",
    "\n",
    "sc = spark.sparkContext"
   ],
   "metadata": {
    "collapsed": false,
    "pycharm": {
     "name": "#%%\n",
     "is_executing": false
    }
   }
  },
  {
   "cell_type": "code",
   "execution_count": 36,
   "outputs": [],
   "source": [
    "\n",
    "\n",
    "pdDF = pd.DataFrame(data).transpose()\n",
    "pdDF[['film_images','film_videos','countries']]=pdDF[['film_images','film_videos','countries']]\\\n",
    "    .applymap(list)\n",
    "\n",
    "movies_df = spark.createDataFrame(pdDF)\n"
   ],
   "metadata": {
    "collapsed": false,
    "pycharm": {
     "name": "#%%\n",
     "is_executing": false
    }
   }
  },
  {
   "cell_type": "markdown",
   "source": [
    "Задание: Посчитайте сколько фильмов в каждой возрастной категории.\n"
   ],
   "metadata": {
    "collapsed": false
   }
  },
  {
   "cell_type": "code",
   "execution_count": 37,
   "outputs": [
    {
     "name": "stdout",
     "text": [
      "+--------+-----+\n|age_rank|count|\n+--------+-----+\n|    none|   51|\n|     16+|   10|\n|     18+|    9|\n|     12+|    8|\n|      6+|    2|\n|      0+|    2|\n+--------+-----+\n\n"
     ],
     "output_type": "stream"
    }
   ],
   "source": [
    "movies_df.groupBy(\"age_rank\").count().orderBy(\"count\",ascending=False).show()"
   ],
   "metadata": {
    "collapsed": false,
    "pycharm": {
     "name": "#%%\n",
     "is_executing": false
    }
   }
  },
  {
   "cell_type": "markdown",
   "source": [
    "Задание: Посчитайте сколько фильмов по странам.\n",
    "\n"
   ],
   "metadata": {
    "collapsed": false
   }
  },
  {
   "cell_type": "code",
   "execution_count": 38,
   "outputs": [
    {
     "name": "stdout",
     "text": [
      "+--------------+-----+\n|       country|count|\n+--------------+-----+\n|           США|   18|\n|Великобритания|   10|\n|        Россия|   10|\n|      Германия|    5|\n|       Испания|    5|\n|         Китай|    4|\n|        Италия|    4|\n|       Франция|    3|\n|     Аргентина|    2|\n|      Бразилия|    1|\n|       Мексика|    1|\n|   Корея Южная|    1|\n|      Норвегия|    1|\n|        Япония|    1|\n|      Ирландия|    1|\n|       Эстония|    1|\n|       Бельгия|    1|\n|        Грузия|    1|\n|    Португалия|    1|\n+--------------+-----+\n\n"
     ],
     "output_type": "stream"
    }
   ],
   "source": [
    "movie_count_df=movies_df.withColumn(\"country\",explode(movies_df.countries))\n",
    "movie_count_df.groupBy('country').count().orderBy(\"count\",ascending=False).show()"
   ],
   "metadata": {
    "collapsed": false,
    "pycharm": {
     "name": "#%%\n",
     "is_executing": false
    }
   }
  },
  {
   "cell_type": "markdown",
   "source": [
    "Задание:\n",
    "Посчитайте сколько фильмов по актерам"
   ],
   "metadata": {
    "collapsed": false
   }
  },
  {
   "cell_type": "code",
   "execution_count": 39,
   "outputs": [
    {
     "name": "stdout",
     "text": [
      "+--------------------+-----+\n|          actor_name|count|\n+--------------------+-----+\n|         Эль Фаннинг|    3|\n|            Джуд Лоу|    2|\n|       Глория Фостер|    2|\n|         Маркус Чонг|    2|\n|      Лоренс Фишбёрн|    2|\n|        Келли Рорбах|    2|\n|        Селена Гомес|    2|\n|    Джулиан Араханга|    2|\n|        Ребекка Холл|    2|\n|      Джо Пантольяно|    2|\n|    Александр Петров|    2|\n|         Лив Шрайбер|    2|\n|        Хьюго Уивинг|    2|\n|           Брэд Питт|    2|\n|       Тимоти Шаламе|    2|\n|          Мэтт Доран|    2|\n|          Киану Ривз|    2|\n|      Кэрри-Энн Мосс|    2|\n|       Кристин Гёрке|    1|\n|          Ли Сон-гюн|    1|\n|    Джонни Ли Миллер|    1|\n|     Дамиан Алькасар|    1|\n|    Хульета Эгуррола|    1|\n|          Йен Шрагер|    1|\n|      Кигэн-Майкл Ки|    1|\n|   Леонардо ДиКаприо|    1|\n|          Зоя Бербер|    1|\n|        Скут МакНэри|    1|\n|      Малика Лапшина|    1|\n|     Phillip Johnson|    1|\n|        Алена Чехова|    1|\n|      Григорий Чабан|    1|\n|    Джуда Фридландер|    1|\n|        Юсиф Эйвазов|    1|\n|      Кристин Фросет|    1|\n|      Дональд Гловер|    1|\n|     Сьюки Уотерхаус|    1|\n|   Виталий Герасимов|    1|\n|         Белла Рэмси|    1|\n|          Гайя Уайсс|    1|\n|       Уилл Бриттейн|    1|\n|      Евгений Мундум|    1|\n|     Грасиэла Борхес|    1|\n|     Джастин Марксен|    1|\n|          Вела Клафф|    1|\n|        Лус Киприота|    1|\n|     Алена Михайлова|    1|\n|      Маккензи Дэвис|    1|\n|   Чиветель Эджиофор|    1|\n|   Сергей Маковецкий|    1|\n|      Владимир Яглыч|    1|\n|      Ирина Купченко|    1|\n|Арнольд Шварценеггер|    1|\n|         Энди Найман|    1|\n|         Стив Рубелл|    1|\n|       Дэниэл Миллар|    1|\n|         Галья Майер|    1|\n|      Кирилл Комаров|    1|\n|        Роман Курцын|    1|\n|       Аннали Эшфорд|    1|\n|     Джолин Андерсон|    1|\n|     Кассандра Старр|    1|\n|      Бенуа Пульворд|    1|\n|      Давид Вердагер|    1|\n|     Сантьяго Молеро|    1|\n|        Карлос Кобос|    1|\n| Александра Даддарио|    1|\n| Светлана Ходченкова|    1|\n|          Диего Луна|    1|\n|    Алексей Дерябкин|    1|\n|         Матс Элдоэн|    1|\n|Ода Осволл Аватсмарк|    1|\n|    Макар Пусторамов|    1|\n|         Рауль Техон|    1|\n|       Хоакин Феникс|    1|\n|          Аль Пачино|    1|\n|    Alassane Diakité|    1|\n|          Пак Со-дам|    1|\n|     Семен Трескунов|    1|\n|     Сергей Рудзевич|    1|\n|    Даниил Коновалов|    1|\n|        Аксель Праль|    1|\n|          Бинбин Ван|    1|\n|          Anwar Yoma|    1|\n|          Сон Кан-хо|    1|\n|        Карло Д’Урси|    1|\n|       Карлос Бардем|    1|\n|       Тьерри Фремон|    1|\n|     Владимир Машков|    1|\n|     Витор Гонсалвес|    1|\n|       Бруно Саломон|    1|\n|         Сунита Мани|    1|\n|   Карен Гардесабаль|    1|\n|     Ирина Вербицкая|    1|\n|     Елизавета Моряк|    1|\n|       Лиззи Уинклер|    1|\n|   Юстус фон Донаньи|    1|\n|           Чо Ё-джон|    1|\n|       Стивен Эллиот|    1|\n|     Рикардо Эскерра|    1|\n|           Эли Тонна|    1|\n|        Билли Айкнер|    1|\n|      Кристина Асмус|    1|\n|       Шулер Хелфорд|    1|\n|        Артем Сучков|    1|\n|   Хосе Рамон Сороис|    1|\n|       Эктор Бонилья|    1|\n| Франческо Паннофино|    1|\n|        Саша Агашков|    1|\n|      Оскар Мартинес|    1|\n|     Рюносукэ Камики|    1|\n|         Чан Хе-джин|    1|\n|         Роман Попов|    1|\n|      Маурицио Исаак|    1|\n|      Дмитрий Нагиев|    1|\n|       Гленн Флешлер|    1|\n|      Дакота Фаннинг|    1|\n|        Логан Миллер|    1|\n|      Кана Ханадзава|    1|\n|     Лука Арджентеро|    1|\n|       Рехина Ороско|    1|\n|           Юки Кадзи|    1|\n|        Карл Джонсон|    1|\n|         Джуно Темпл|    1|\n|      Кирилл Сафонов|    1|\n|      Михаил Сазанов|    1|\n|      Максим Суханов|    1|\n|     Дмитрий Власкин|    1|\n|           Эд Скрейн|    1|\n|         Курт Рассел|    1|\n|     Мишель Пфайффер|    1|\n|        Кана Итиносэ|    1|\n|         Лаверн Кокс|    1|\n|        Кэти Стивенс|    1|\n|          Грег Брайк|    1|\n|        Майкл Гэмбон|    1|\n|        Виталий Хаев|    1|\n|      Джереми Айронс|    1|\n|         Мару Запата|    1|\n|      Itziar Aizpuru|    1|\n|        Ане Габарайн|    1|\n|      Hamidou Samaké|    1|\n|  Александр Голубков|    1|\n|    Мариасун Пагоага|    1|\n|       Стефани Кулон|    1|\n|        Наталия Тена|    1|\n|     Маркос Мандсток|    1|\n|     Иван Охлобыстин|    1|\n|     Александр Мохов|    1|\n|Мануэль Мартинес ...|    1|\n|         Тимур Шошин|    1|\n|      Ирина Яковлева|    1|\n|       Сергей Гармаш|    1|\n|          Шази Раджа|    1|\n|           Нана Мори|    1|\n|           Джон Финн|    1|\n|       Инга Оболдина|    1|\n|          Клара Лаго|    1|\n|   Николас Франсельа|    1|\n|    Хосеан Бенгоэчеа|    1|\n|       Наталия Рейес|    1|\n|        Чарли Хюбнер|    1|\n|       Джон Киллоран|    1|\n|        Финн Уиттрок|    1|\n|        Руфус Сьюэлл|    1|\n|      Энтони Дженсен|    1|\n|           Сюн Огури|    1|\n|  Александр Кузнецов|    1|\n|       Андреас Шмидт|    1|\n|          Эгоиц Ласа|    1|\n|       Луис Брандони|    1|\n| Бенедикт Камбербэтч|    1|\n|  Агриппина Стеклова|    1|\n| Александра Киселева|    1|\n|        Ициар Итуньо|    1|\n|    Георгий Васильев|    1|\n|    Сара Коэн-Хадриа|    1|\n|       Франк Бенезек|    1|\n| Хенриетта Фэй-Шолль|    1|\n|    Арина Постникова|    1|\n|      Setigui Diallo|    1|\n|          Олег Фомин|    1|\n|    Марина Де Тавира|    1|\n|Уилл Смит Мэри Эл...|    1|\n|        Цубаса Хонда|    1|\n|   Ангелина Стречина|    1|\n|   Максим Виноградов|    1|\n|        Колин Д’Инка|    1|\n|           Элла Смит|    1|\n|      Стиг Дж. Хаген|    1|\n|      Эдвард Ферлонг|    1|\n|         Жюль Херман|    1|\n|      Роберт Де Ниро|    1|\n|    Шарлотта Фрогнер|    1|\n|         Эжен Маркус|    1|\n|Анджела Фонтана М...|    1|\n|       Ольга Лапшина|    1|\n|       Софья Озерова|    1|\n|      Жан-Поль Гуйон|    1|\n|           Сет Роген|    1|\n|         Эми Седарис|    1|\n|    Джеймс Эрл Джонс|    1|\n|       Тайлер Хэклин|    1|\n|       Фодисо Динтве|    1|\n|     Анджелина Джоли|    1|\n|         Черри Джонс|    1|\n|  Дмитрий Глуховский|    1|\n|         Тиэко Байсё|    1|\n|           Жан Нанга|    1|\n|      Линда Хэмилтон|    1|\n|        Jorge Araújo|    1|\n|      Сэй Хираидзуми|    1|\n|         Арвед Фризе|    1|\n|         Марго Робби|    1|\n|      Дональд Рубелл|    1|\n|        Кимико Гленн|    1|\n|Хосе Мария Бераса...|    1|\n|  Сильверио Паласиос|    1|\n|    Микель Ласкураин|    1|\n|   Дональд Сазерленд|    1|\n|       Терри Партыка|    1|\n|           Зази Битц|    1|\n| Наталья Скоморохова|    1|\n|   Владимир Капустин|    1|\n|      Иван Янковский|    1|\n|           Рут Негга|    1|\n|        Филипп Сполл|    1|\n|        Котаро Дайго|    1|\n|      Томми Ли Джонс|    1|\n|    Джемма-Ли Деверё|    1|\n|          Том Хоппер|    1|\n|           Шей Уигэм|    1|\n|    Александр Тронов|    1|\n|     Нагоре Арамбуру|    1|\n|     Валери Боннетон|    1|\n|        Бретт Каллен|    1|\n|       Кирилл Нагиев|    1|\n|    Марит Андреассен|    1|\n|        Яна Есипович|    1|\n|     Гильермо Толедо|    1|\n|    Элеонора Буратто|    1|\n|          Чхве У-щик|    1|\n|        Джесси Бакли|    1|\n|      Фрэнсис Конрой|    1|\n|   Виктория Педретти|    1|\n|Richardson Chaney...|    1|\n|      Рене Зеллвегер|    1|\n|   Фабио Капитануччи|    1|\n|Лорин Алиса МакКл...|    1|\n|    Белинда МакКлори|    1|\n|        Павел Баршак|    1|\n|       Джеймс Моррис|    1|\n|       Брайан Коллен|    1|\n| БоГотье де Кермоаль|    1|\n|      Марта Дроздова|    1|\n|      Евгений Атарик|    1|\n+--------------------+-----+\n\n"
     ],
     "output_type": "stream"
    }
   ],
   "source": [
    "movies_df.select(\"name\", explode(movies_df.actors).alias(\"actor_name\", \"data\"))\\\n",
    "    .groupBy('actor_name').count().orderBy(\"count\",ascending=False).show(1000)\n"
   ],
   "metadata": {
    "collapsed": false,
    "pycharm": {
     "name": "#%%\n",
     "is_executing": false
    }
   }
  }
 ],
 "metadata": {
  "kernelspec": {
   "display_name": "Python 3",
   "language": "python",
   "name": "python3"
  },
  "language_info": {
   "codemirror_mode": {
    "name": "ipython",
    "version": 2
   },
   "file_extension": ".py",
   "mimetype": "text/x-python",
   "name": "python",
   "nbconvert_exporter": "python",
   "pygments_lexer": "ipython2",
   "version": "2.7.6"
  },
  "pycharm": {
   "stem_cell": {
    "cell_type": "raw",
    "source": [],
    "metadata": {
     "collapsed": false
    }
   }
  }
 },
 "nbformat": 4,
 "nbformat_minor": 0
}