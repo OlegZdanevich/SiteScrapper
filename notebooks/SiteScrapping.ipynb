{
 "cells": [
  {
   "cell_type": "code",
   "execution_count": 1,
   "metadata": {
    "collapsed": true,
    "pycharm": {
     "name": "#%%\n",
     "is_executing": false
    }
   },
   "outputs": [],
   "source": [
    "import glob\n",
    "from bs4 import BeautifulSoup\n",
    "import requests\n",
    "import logging\n",
    "import multiprocessing.dummy as mp\n",
    "import os"
   ]
  },
  {
   "cell_type": "markdown",
   "source": [
    "Пишем функции для получения URL фильмов"
   ],
   "metadata": {
    "collapsed": false
   }
  },
  {
   "cell_type": "code",
   "execution_count": 2,
   "outputs": [],
   "source": [
    "def get_urls_from_afisha(base_url):\n",
    "    response = requests.get(base_url)\n",
    "    soup = BeautifulSoup(response.text, 'html.parser')\n",
    "    films = soup.findAll('li', {'class': 'lists__li'})\n",
    "    return set(filter(None, map(lambda x: get_urls_function(x, 'name'), films)))\n",
    "\n",
    "\n",
    "def get_urls_function(x, class_name):\n",
    "    href_list = x.findAll('a', {'class': class_name})\n",
    "    if len(href_list) != 0:\n",
    "        current_url = href_list[0]['href']\n",
    "        if current_url.find(\"https://afisha.tut.by/film\") != -1:\n",
    "            return href_list[0]['href']\n",
    "\n",
    "\n",
    "def get_urls_from_online_cinema(base_url):\n",
    "    return get_urls_from_online_cinema_page(base_url, set())\n",
    "\n",
    "\n",
    "def get_urls_from_online_cinema_page(url, result_data):\n",
    "    response = requests.get(url)\n",
    "    soup = BeautifulSoup(response.text, 'html.parser')\n",
    "    films = soup.findAll('li', {'class': 'lists__li'})\n",
    "    urls = set(filter(None, map(lambda x: get_urls_function(x, 'media'), films)))\n",
    "    result_data = result_data.union(urls)\n",
    "    next_button = soup.find('li', {'class', 'p-next'}).find('a')\n",
    "    if next_button is not None:\n",
    "        next_url = next_button['href']\n",
    "        return get_urls_from_online_cinema_page(next_url, result_data)\n",
    "    else:\n",
    "        return result_data\n",
    "\n",
    "\n",
    "def get_urls_from_afisha_and_online_cinema(base_url_afisha, base_url_online_films):\n",
    "    #online = get_urls_from_online_cinema(base_url_online_films)\n",
    "    afisha = get_urls_from_afisha(base_url_afisha)\n",
    "    return afisha#.union(online)"
   ],
   "metadata": {
    "collapsed": false,
    "pycharm": {
     "name": "#%%\n",
     "is_executing": false
    }
   }
  },
  {
   "cell_type": "markdown",
   "source": [
    "\n",
    "Получаем все ссылки на фильмы c афишы и онлайн кинотеатра"
   ],
   "metadata": {
    "collapsed": false
   }
  },
  {
   "cell_type": "code",
   "execution_count": 3,
   "outputs": [
    {
     "name": "stderr",
     "text": [
      "INFO:root:Number of films 99\n"
     ],
     "output_type": "stream"
    }
   ],
   "source": [
    "\n",
    "\n",
    "logging.basicConfig(level=logging.INFO)    \n",
    "base_url_afisha = 'https://afisha.tut.by/film/'\n",
    "base_url_online_cinema='https://afisha.tut.by/online-cinema/'\n",
    "urlsOfFilms=get_urls_from_afisha_and_online_cinema(base_url_afisha,base_url_online_cinema)\n",
    "logging.info(\"Number of films \"+str(len(urlsOfFilms)))"
   ],
   "metadata": {
    "collapsed": false,
    "pycharm": {
     "name": "#%%\n",
     "is_executing": false
    }
   }
  },
  {
   "cell_type": "markdown",
   "source": [
    "Пишем функции для парсинга отдельных элементов страницы"
   ],
   "metadata": {
    "collapsed": false,
    "pycharm": {
     "name": "#%% md\n"
    }
   }
  },
  {
   "cell_type": "code",
   "execution_count": 4,
   "outputs": [],
   "source": [
    "def get_film_name(parsed_film_page):\n",
    "    return parsed_film_page.findAll('h1', {'class': 'title'})[0].getText().rstrip()\n",
    "\n",
    "\n",
    "def is_premiere(parsed_film_page):\n",
    "    label = parsed_film_page.find('div', {'class': 'title__labels'}).findAll('span', {'class': 'label'})\n",
    "    for val in label:\n",
    "        if val.getText() == \"Премьера\":\n",
    "            return True\n",
    "    return False\n",
    "\n",
    "\n",
    "def get_film_age_rank(parsed_film_page):\n",
    "    label = parsed_film_page.find('div', {'class': 'title__labels'}).findAll('span', {'class': 'label'})\n",
    "    for val in label:\n",
    "        if val.getText().find(\"+\") != -1:\n",
    "            return val.getText()\n",
    "    return \"none\"\n",
    "\n",
    "\n",
    "def get_native_film_name(parsed_film_page):\n",
    "    label = parsed_film_page.find('div', {'class': 'sub_title'})\n",
    "    if label is not None:\n",
    "        return label.getText()\n",
    "    return \"none\"\n",
    "\n",
    "\n",
    "def get_poster_url(parsed_film_page):\n",
    "    return parsed_film_page.find('img', {'class': 'main_image'})[\"src\"]\n",
    "\n",
    "\n",
    "def get_genre(parsed_film_page):\n",
    "    genres = parsed_film_page.findAll('a', {'itemprop': 'genre'})\n",
    "    genres_dict = {}\n",
    "    for genre in genres:\n",
    "        genres_dict[genre.getText()] = {\"name\": genre.getText(), \"url\": genre[\"href\"]}\n",
    "    return genres_dict\n",
    "\n",
    "\n",
    "def get_set_values(text):\n",
    "    return set(text.split(\", \"))\n",
    "\n",
    "\n",
    "def get_table_field_set(parsed_film_page, field_name):\n",
    "    td = parsed_film_page.find('td', {'class': field_name})\n",
    "    if td is not None:\n",
    "        text = td.getText()\n",
    "        return get_set_values(text)\n",
    "    return set()\n",
    "\n",
    "\n",
    "def get_table_field_single(parsed_film_page, field_name):\n",
    "    td = parsed_film_page.find('td', {'class': field_name})\n",
    "    if td is not None:\n",
    "        return td.getText()\n",
    "    return \"none\"\n",
    "\n",
    "\n",
    "\n",
    "\n",
    "\n",
    "def get_year_of_film(parsed_film_page):\n",
    "    td = parsed_film_page.find('td', {'class': 'year'})\n",
    "    if td is not None:\n",
    "        a_tag = td.find('a')\n",
    "        if a_tag is not None:\n",
    "            return {\"year\": a_tag.getText(), \"url\": a_tag[\"href\"]}\n",
    "        return {\"year\": td.getText(), \"url\": \"none\"}\n",
    "    return {\"year\": \"none\", \"url\": \"none\"}\n",
    "\n",
    "\n",
    "def get_duration(parsed_film_page):\n",
    "    return get_table_field_single(parsed_film_page, 'duration')\n",
    "\n",
    "\n",
    "def get_country(parsed_film_page):\n",
    "    return set(map(lambda x: x.strip(),get_table_field_set(parsed_film_page, 'author')))\n",
    "\n",
    "\n",
    "def get_showing_end_date(parsed_film_page):\n",
    "    end_date = get_table_field_single(parsed_film_page, 'date')\n",
    "    if end_date != \"none\":\n",
    "        return end_date.split(\"В прокате до \")[1]\n",
    "    return end_date\n",
    "\n",
    "\n",
    "def get_afisha_rating(parsed_film_page):\n",
    "    rating = parsed_film_page.find('span', {'class': 'rating-big__value'})\n",
    "    if rating is not None:\n",
    "        return rating.getText()\n",
    "    return \"none\"\n",
    "\n",
    "\n",
    "def get_not_afisha_rating(parsed_film_page, label):\n",
    "    rating_tag = parsed_film_page.find('td', {'class': 'IMDb'})\n",
    "    if rating_tag is not None:\n",
    "        ratings = rating_tag.findAll(\"b\")\n",
    "        for rating in ratings:\n",
    "            sibling = rating.findPreviousSibling('p')\n",
    "            if sibling.getText() == label:\n",
    "                return rating.getText()\n",
    "    return \"none\"\n",
    "\n",
    "\n",
    "def get_imdb_rating(parsed_film_page):\n",
    "    return get_not_afisha_rating(parsed_film_page, 'Рейтинг IMDb')\n",
    "\n",
    "\n",
    "def get_kinopoisk_rating(parsed_film_page):\n",
    "    return get_not_afisha_rating(parsed_film_page, 'Кинопоиск')\n",
    "\n",
    "\n",
    "def get_ratings(parsed_film_page):\n",
    "    return {\"afisha\": get_afisha_rating(parsed_film_page), \"imdb\": get_imdb_rating(parsed_film_page),\n",
    "            \"kinopoisk\": get_afisha_rating(parsed_film_page)}\n",
    "\n",
    "\n",
    "def persons_from_string(p_tag, selector_text):\n",
    "    persons = {}\n",
    "    a_tags = p_tag.findAll('a')\n",
    "    for a_tag in a_tags:\n",
    "        name = a_tag.getText()\n",
    "        persons[name] = {\"name\": name, \"additional_information\": a_tag['href']}\n",
    "        a_tag.extract()\n",
    "    names = filter(lambda x: x != \"\", p_tag.getText().split(selector_text + \" \")[1].split(\", \"))\n",
    "    for name in names:\n",
    "        persons[name] = {\"name\": name, \"additional_information\": \"none\"}\n",
    "    return persons\n",
    "\n",
    "\n",
    "def get_director(parsed_film_page):\n",
    "    previous_sibling = parsed_film_page.find('table', {'class': 'movie_info'})\n",
    "    p_tag = previous_sibling.findNextSibling('p')\n",
    "    if p_tag is not None:\n",
    "        if p_tag.getText().find(\"Режиссер:\") != -1:\n",
    "            return persons_from_string(p_tag, \"Режиссер:\")\n",
    "    return {}\n",
    "\n",
    "\n",
    "def get_actors(parsed_film_page):\n",
    "    previous_sibling = parsed_film_page.find('table', {'class': 'movie_info'})\n",
    "    p_tags = previous_sibling.findNextSiblings('p', limit=2)\n",
    "    for p_tag in p_tags:\n",
    "        if p_tag is not None:\n",
    "            if p_tag.getText().find(\"В ролях:\") != -1:\n",
    "                return persons_from_string(p_tag, \"В ролях:\")\n",
    "    return {}\n",
    "\n",
    "\n",
    "def get_description(parsed_film_page):\n",
    "    description_div = parsed_film_page.find('div', {'itemprop': 'description'})\n",
    "    if description_div is not None:\n",
    "        siblings = description_div.findAll()\n",
    "        for sibling in siblings:\n",
    "            sibling.extract()\n",
    "        return description_div.getText().replace(\"\\n\", \"\").replace(\"\\t\", \"\").strip()\n",
    "    return \"none\"\n",
    "\n",
    "\n",
    "def get_film_videos(parsed_film_page):\n",
    "    media_div = parsed_film_page.find('div', {'id': 'event-photos'})\n",
    "    if media_div is not None:\n",
    "        result = set()\n",
    "        video_frames = media_div.findAll('a', {'data-action': 'iframe'})\n",
    "        for video_frame in video_frames:\n",
    "            result.add(video_frame[\"href\"])\n",
    "        return result\n",
    "    return set()\n",
    "\n",
    "\n",
    "def get_film_images(parsed_film_page):\n",
    "    media_div = parsed_film_page.find('div', {'id': 'event-photos'})\n",
    "    if media_div is not None:\n",
    "        result = set()\n",
    "        video_frames = media_div.findAll('img')\n",
    "        for video_frame in video_frames:\n",
    "            result.add(video_frame[\"src\"])\n",
    "        return result\n",
    "    return set()\n"
   ],
   "metadata": {
    "collapsed": false,
    "pycharm": {
     "name": "#%%\n",
     "is_executing": false
    }
   }
  },
  {
   "cell_type": "markdown",
   "source": [
    "\n",
    "Пишем функцию для парсинга страницы"
   ],
   "metadata": {
    "collapsed": false
   }
  },
  {
   "cell_type": "code",
   "execution_count": 5,
   "outputs": [],
   "source": [
    "def parse_film_page(url):\n",
    "    logging.info(url)\n",
    "    response_of_film_page = requests.get(url)\n",
    "    parsed_film_page = BeautifulSoup(response_of_film_page.text, 'html.parser')\n",
    "    name = get_film_name(parsed_film_page)\n",
    "    data = {'url': url, 'name': name}  # set name and url of film\n",
    "    data['is_premiere'] = is_premiere(parsed_film_page)  # is this film premiere\n",
    "    data['age_rank'] = get_film_age_rank(parsed_film_page)  # age rank  (16+ and etc.)\n",
    "    data['native_film_name'] = get_native_film_name(parsed_film_page)  # name of film in original\n",
    "    data['poster_url'] = get_poster_url(parsed_film_page)  # url to film poster\n",
    "    data['genres'] = get_genre(parsed_film_page)  # genres of film\n",
    "    data['year_of_movie'] = get_year_of_film(parsed_film_page)  # year of creation\n",
    "    data['duration'] = get_duration(parsed_film_page)  # duration\n",
    "    data['countries'] = get_country(parsed_film_page)  # countries \n",
    "    data['showing_end_date'] = get_showing_end_date(parsed_film_page)  # end date of showing in theaters\n",
    "    data['description'] = get_description(parsed_film_page)  # text description of film\n",
    "    data['ratings'] = get_ratings(parsed_film_page)  # ratings\n",
    "    data['directors'] = get_director(parsed_film_page)  # directors of film and link for additional director information\n",
    "    data['actors'] = get_actors(parsed_film_page)  # actors  and link for additional actors information\n",
    "    data['film_videos'] = get_film_videos(parsed_film_page)  # urls to videos of film (trailer and etc.)\n",
    "    data['film_images'] = get_film_images(parsed_film_page)  # urls to images of film \n",
    "    return name, data"
   ],
   "metadata": {
    "collapsed": false,
    "pycharm": {
     "name": "#%%\n",
     "is_executing": false
    }
   }
  },
  {
   "cell_type": "markdown",
   "source": [
    "\n",
    "Пишем функцию для парсинга страниц"
   ],
   "metadata": {
    "collapsed": false
   }
  },
  {
   "cell_type": "code",
   "execution_count": 6,
   "outputs": [],
   "source": [
    "def parse_all_pages(urls):\n",
    "    cores_num=os.cpu_count()\n",
    "    logging.info(\"***************************START*****************************\")\n",
    "    p=mp.Pool(cores_num)\n",
    "    parsed_pages=dict(p.map(parse_film_page,urls))\n",
    "    logging.info(\"***************************END*****************************\")\n",
    "    return parsed_pages"
   ],
   "metadata": {
    "collapsed": false,
    "pycharm": {
     "name": "#%%\n",
     "is_executing": false
    }
   }
  },
  {
   "cell_type": "markdown",
   "source": [
    "\n",
    "Парсим страницы"
   ],
   "metadata": {
    "collapsed": false
   }
  },
  {
   "cell_type": "code",
   "execution_count": 7,
   "outputs": [
    {
     "name": "stderr",
     "text": [
      "INFO:root:***************************START*****************************\n",
      "INFO:root:https://afisha.tut.by/film/siyanie_obrushitsya_vniz_posledniy_koncert_grazhdanskoy_oborony/\n",
      "INFO:root:https://afisha.tut.by/film/doktor-son/?utm_source=afisha.tut.by&utm_medium=event_recirculation&utm_campaign=top3\n",
      "INFO:root:https://afisha.tut.by/film/ford-protiv-ferrari/?utm_source=afisha.tut.by&utm_medium=films&utm_campaign=premiere_block\n",
      "INFO:root:https://afisha.tut.by/film/avanpost/\n",
      "INFO:root:https://afisha.tut.by/film/theatrehd-gogen/\n",
      "INFO:root:https://afisha.tut.by/film/gurvinek-volshebnaya-igra/\n",
      "INFO:root:https://afisha.tut.by/film/deti-morya/\n",
      "INFO:root:https://afisha.tut.by/film/korotkiy_metr_dramatic_pink/\n",
      "INFO:root:https://afisha.tut.by/film/ford_vs_ferrari_ru_sub/\n",
      "INFO:root:https://afisha.tut.by/film/miduey/?utm_source=afisha.tut.by&utm_medium=films&utm_campaign=premiere_block\n",
      "INFO:root:https://afisha.tut.by/film/theatrehd-leonardo-vsya-istoriya/\n",
      "INFO:root:https://afisha.tut.by/film/vernost/\n",
      "INFO:root:https://afisha.tut.by/film/devyataya/\n",
      "INFO:root:https://afisha.tut.by/film/dostat-nozhi/\n",
      "INFO:root:https://afisha.tut.by/film/shakira_in_concert_el_dorado_world_tour/\n",
      "INFO:root:https://afisha.tut.by/film/upyri/?utm_source=afisha.tut.by&utm_medium=films&utm_campaign=premiere_block\n",
      "INFO:root:https://afisha.tut.by/film/vo-vse-tyazhkoe/\n",
      "INFO:root:https://afisha.tut.by/film/veselaya-ferma/\n",
      "INFO:root:https://afisha.tut.by/film/abbatstvo_daunton/\n",
      "INFO:root:https://afisha.tut.by/film/theatrehd-ekhnaton/\n",
      "INFO:root:https://afisha.tut.by/film/doctor_sleep_ru_sub/\n",
      "INFO:root:https://afisha.tut.by/film/selma-v-gorode-prizrakov/\n",
      "INFO:root:https://afisha.tut.by/film/vo-vse-tyazhkoe/?utm_source=afisha.tut.by&utm_medium=event_recirculation&utm_campaign=top3\n",
      "INFO:root:https://afisha.tut.by/film/shlyubnaya_garachka/\n",
      "INFO:root:https://afisha.tut.by/film/strazhi-arktiki/\n",
      "INFO:root:https://afisha.tut.by/film/everest-film/\n",
      "INFO:root:https://afisha.tut.by/film/teen_sprints_motiviruyushchaya_biznes_konferenciya_so_spikerami_podrostkami/\n",
      "INFO:root:https://afisha.tut.by/film/lyubit-nelzya-rasstatsya/\n",
      "INFO:root:https://afisha.tut.by/film/klara-i-volshebnyy-drakon/\n",
      "INFO:root:https://afisha.tut.by/film/ford-protiv-ferrari/\n",
      "INFO:root:https://afisha.tut.by/film/terminator_dark_fate_ru_sub/\n",
      "INFO:root:https://afisha.tut.by/film/tim-taler-ili-prodannyy-smekh/\n",
      "INFO:root:https://afisha.tut.by/film/bukashki-2/\n",
      "INFO:root:https://afisha.tut.by/film/theatrehd_nastoyashchaya_komediya_ru_sub/\n",
      "INFO:root:https://afisha.tut.by/film/parazity/\n",
      "INFO:root:https://afisha.tut.by/film/svyataya-agata/\n",
      "INFO:root:https://afisha.tut.by/film/domovoy-2019/\n",
      "INFO:root:https://afisha.tut.by/film/krugosvetnoe-puteshestvie-elkano-i-magellana/\n",
      "INFO:root:https://afisha.tut.by/film/promar/\n",
      "INFO:root:https://afisha.tut.by/film/theatrehd-palladio-vlast-arkhitektury/\n",
      "INFO:root:https://afisha.tut.by/film/theatrehd-khansard/\n",
      "INFO:root:https://afisha.tut.by/film/mmkf-listapad-matias-i-maksim/\n",
      "INFO:root:https://afisha.tut.by/film/theatrehd_son_v_letnyuyu_noch_ru_sub/\n",
      "INFO:root:https://afisha.tut.by/film/vozera-radasci/\n",
      "INFO:root:https://afisha.tut.by/film/malefisenta-vladychica-tmy/\n",
      "INFO:root:https://afisha.tut.by/film/doktor-son/\n",
      "INFO:root:https://afisha.tut.by/film/kholodnoe-serdce-2/?utm_source=afisha.tut.by&utm_medium=films&utm_campaign=premiere_block\n",
      "INFO:root:https://afisha.tut.by/film/european_outdoor_film_tour_19_20/\n",
      "INFO:root:https://afisha.tut.by/film/theatrehd_dvenadcataya_noch/\n",
      "INFO:root:https://afisha.tut.by/film/42-ya-ulica/\n",
      "INFO:root:https://afisha.tut.by/film/tak-skazal-charli/\n",
      "INFO:root:https://afisha.tut.by/film/tekst/\n",
      "INFO:root:https://afisha.tut.by/film/v-pogone-za-vetrom/\n",
      "INFO:root:https://afisha.tut.by/film/retrospektiva-pamyati-marka-zakharova/\n",
      "INFO:root:https://afisha.tut.by/film/rayskie-kholmy/\n",
      "INFO:root:https://afisha.tut.by/film/chas-letapisu-dmitriy-makhamed/\n",
      "INFO:root:https://afisha.tut.by/film/theatrehd-veer-ledi-uindermir-spektakl/\n",
      "INFO:root:https://afisha.tut.by/film/arakhisovyy-sokol/\n",
      "INFO:root:https://afisha.tut.by/film/depeche_mode_spirits_in_the_forest/\n",
      "INFO:root:https://afisha.tut.by/film/taynyy-mir-anny/\n",
      "INFO:root:https://afisha.tut.by/film/kover-samolet/\n",
      "INFO:root:https://afisha.tut.by/film/robo/\n",
      "INFO:root:https://afisha.tut.by/film/vozera-radasci-kray-zhanchyn/\n",
      "INFO:root:https://afisha.tut.by/film/noch_kino_v_moskve/\n",
      "INFO:root:https://afisha.tut.by/film/russkiy-bes/\n",
      "INFO:root:https://afisha.tut.by/film/izvinite-my-vas-ne-zastali/\n",
      "INFO:root:https://afisha.tut.by/film/portret-devushki-v-ogne/\n",
      "INFO:root:https://afisha.tut.by/film/non-stop-ekranizaciya-klassiki/\n",
      "INFO:root:https://afisha.tut.by/film/terminator-temnye-sudby-sub/\n",
      "INFO:root:https://afisha.tut.by/film/theatrehd-shchelkunchik-sub/\n",
      "INFO:root:https://afisha.tut.by/film/davay-razvedemsya/\n",
      "INFO:root:https://afisha.tut.by/film/joker-film/\n",
      "INFO:root:https://afisha.tut.by/film/terminator-temnye-sudby/\n",
      "INFO:root:https://afisha.tut.by/film/theatrehd-korsar-sub/\n",
      "INFO:root:https://afisha.tut.by/film/urfin-dzhyus-vozvrashchaetsya/\n",
      "INFO:root:https://afisha.tut.by/film/rabota-bez-avtorstva/\n",
      "INFO:root:https://afisha.tut.by/film/vengerskie-korotkometrazhnye-filmy/\n",
      "INFO:root:https://afisha.tut.by/film/upyri/\n",
      "INFO:root:https://afisha.tut.by/film/zombilend-kontrolnyy-vystrel/\n",
      "INFO:root:https://afisha.tut.by/film/theatrehd-dryan/\n",
      "INFO:root:https://afisha.tut.by/film/podkidysh-2019/\n",
      "INFO:root:https://afisha.tut.by/film/akvarel/\n",
      "INFO:root:https://afisha.tut.by/film/korotkiy_metr_purple_winners/\n",
      "INFO:root:https://afisha.tut.by/film/pomenyatsya-mestami/\n",
      "INFO:root:https://afisha.tut.by/film/miduey/\n",
      "INFO:root:https://afisha.tut.by/film/angely-charli/?utm_source=afisha.tut.by&utm_medium=films&utm_campaign=premiere_block\n",
      "INFO:root:https://afisha.tut.by/film/khoroshiy-lzhec/\n",
      "INFO:root:https://afisha.tut.by/film/semeyka-addams/\n",
      "INFO:root:https://afisha.tut.by/film/non-stop-sharm-francii/\n",
      "INFO:root:https://afisha.tut.by/film/francuz-2019/\n",
      "INFO:root:https://afisha.tut.by/film/kholodnoe-serdce-2/\n",
      "INFO:root:https://afisha.tut.by/film/ditya-pogody/\n",
      "INFO:root:https://afisha.tut.by/film/theatrehd_gamlet_kamberbetch_eng/\n",
      "INFO:root:https://afisha.tut.by/film/angely-charli/\n",
      "INFO:root:https://afisha.tut.by/film/semeyka-addams-sub/\n",
      "INFO:root:https://afisha.tut.by/film/the_good_liar_ru_sub/\n",
      "INFO:root:https://afisha.tut.by/film/retrospektiva_b_b_simvol_soblazna/\n",
      "INFO:root:https://afisha.tut.by/film/theatrehd-globe-vindzorskie-nasmeshnicy/\n",
      "INFO:root:https://afisha.tut.by/film/myslennyy-volk/\n",
      "INFO:root:***************************END*****************************\n",
      "INFO:root:Prepared data for 92 films\n"
     ],
     "output_type": "stream"
    }
   ],
   "source": [
    "data=parse_all_pages(urlsOfFilms)\n",
    "logging.info(\"Prepared data for \"+str(len(data))+\" films\")\n"
   ],
   "metadata": {
    "collapsed": false,
    "pycharm": {
     "name": "#%%\n",
     "is_executing": false
    }
   }
  },
  {
   "cell_type": "markdown",
   "source": [
    "Выполняем задание (от 05.10.2019)"
   ],
   "metadata": {
    "collapsed": false
   }
  },
  {
   "cell_type": "markdown",
   "source": [
    "Загружаем словарь в Spark DataFrame"
   ],
   "metadata": {
    "collapsed": false
   }
  },
  {
   "cell_type": "code",
   "execution_count": 8,
   "outputs": [],
   "source": [
    "from pyspark.sql import SparkSession\n",
    "from pyspark.sql.functions import explode\n",
    "\n",
    "\n",
    "from pandas import DataFrame"
   ],
   "metadata": {
    "collapsed": false,
    "pycharm": {
     "name": "#%%\n",
     "is_executing": false
    }
   }
  },
  {
   "cell_type": "code",
   "execution_count": 9,
   "outputs": [],
   "source": [
    "root_path=os.getcwd().replace(\"\\\\notebooks\",\"\")\n",
    "spark_libs = glob.glob(f\"{root_path}\\\\drivers\\\\*.jar\")\n",
    "spark_libs = \",\"\\\n",
    "    .join(spark_libs)\n",
    "\n",
    "spark = SparkSession.builder \\\n",
    "     .appName(\"load data\") \\\n",
    "     .config(\"spark.jars\", spark_libs)\\\n",
    "     .getOrCreate()\n",
    "\n",
    "\n",
    "sc = spark.sparkContext"
   ],
   "metadata": {
    "collapsed": false,
    "pycharm": {
     "name": "#%%\n",
     "is_executing": false
    }
   }
  },
  {
   "cell_type": "code",
   "execution_count": 10,
   "outputs": [],
   "source": [
    "\n",
    "\n",
    "pdDF = DataFrame(data).transpose()\n",
    "pdDF[['film_images','film_videos','countries']]=pdDF[['film_images','film_videos','countries']]\\\n",
    "    .applymap(list)\n",
    "\n",
    "movies_df = spark.createDataFrame(pdDF)\n"
   ],
   "metadata": {
    "collapsed": false,
    "pycharm": {
     "name": "#%%\n",
     "is_executing": false
    }
   }
  },
  {
   "cell_type": "markdown",
   "source": [
    "Задание: Посчитайте сколько фильмов в каждой возрастной категории.\n"
   ],
   "metadata": {
    "collapsed": false
   }
  },
  {
   "cell_type": "code",
   "execution_count": 11,
   "outputs": [
    {
     "name": "stdout",
     "text": [
      "+--------+-----+\n|age_rank|count|\n+--------+-----+\n|    none|   34|\n|     16+|   21|\n|     18+|   14|\n|     12+|   11|\n|      6+|   10|\n|      0+|    2|\n+--------+-----+\n\n"
     ],
     "output_type": "stream"
    }
   ],
   "source": [
    "movies_by_age_rank_df=movies_df.groupBy(\"age_rank\").count().orderBy(\"count\",ascending=False)\n",
    "\n",
    "movies_by_age_rank_df.show()"
   ],
   "metadata": {
    "collapsed": false,
    "pycharm": {
     "name": "#%%\n",
     "is_executing": false
    }
   }
  },
  {
   "cell_type": "markdown",
   "source": [
    "Задание: Посчитайте сколько фильмов по странам.\n",
    "\n"
   ],
   "metadata": {
    "collapsed": false
   }
  },
  {
   "cell_type": "code",
   "execution_count": 12,
   "outputs": [
    {
     "name": "stdout",
     "text": [
      "+--------------+-----+\n|       country|count|\n+--------------+-----+\n|           США|   21|\n|Великобритания|   15|\n|        Россия|   14|\n|       Франция|    6|\n|         Китай|    6|\n|      Германия|    5|\n|        Канада|    4|\n|       Испания|    3|\n|      Беларусь|    3|\n|        Япония|    3|\n|       Бельгия|    3|\n|   Корея Южная|    2|\n|         Дания|    2|\n|       Мексика|    2|\n|        Италия|    2|\n|         Чехия|    1|\n|      Испания.|    1|\n|      Норвегия|    1|\n|     Австралия|    1|\n|          2019|    1|\n|     Аргентина|    1|\n|         Индия|    1|\n+--------------+-----+\n\n"
     ],
     "output_type": "stream"
    }
   ],
   "source": [
    "movie_count_df=movies_df.withColumn(\"country\",explode(movies_df.countries))\n",
    "movies_by_countries_df=movie_count_df.groupBy('country').count().orderBy(\"count\",ascending=False)\n",
    "\n",
    "movies_by_countries_df.show(1000)"
   ],
   "metadata": {
    "collapsed": false,
    "pycharm": {
     "name": "#%%\n",
     "is_executing": false
    }
   }
  },
  {
   "cell_type": "markdown",
   "source": [
    "Задание:\n",
    "Посчитайте сколько фильмов по актерам"
   ],
   "metadata": {
    "collapsed": false
   }
  },
  {
   "cell_type": "code",
   "execution_count": 13,
   "outputs": [
    {
     "name": "stdout",
     "text": [
      "+--------------------+-----+\n|          actor_name|count|\n+--------------------+-----+\n|      Михаил Ефремов|    2|\n|        Джон Бернтал|    2|\n|Константин Лаврон...|    2|\n|      Евгений Ткачук|    2|\n|        Финн Вулфард|    2|\n|       Наталия Рейес|    2|\n|      Маккензи Дэвис|    2|\n|         Мартин Шорт|    2|\n|      Эдвард Ферлонг|    2|\n|Арнольд Шварценеггер|    2|\n|           Эд Скрейн|    2|\n|   Аляксандр Прымшыц|    2|\n|          Ігар Сігаў|    2|\n|           Снуп Догг|    2|\n|            Зои Дойч|    2|\n|      Анастасія Пляц|    2|\n|         Оскар Айзек|    2|\n|      Линда Хэмилтон|    2|\n|    Хлоя Грейс Морец|    2|\n|     Вуди Харрельсон|    2|\n|          Том Хоппер|    2|\n|        Шарлиз Терон|    2|\n|       Кэтрин О’Хара|    2|\n|     Кассандра Старр|    2|\n|         Бетт Мидлер|    2|\n|      Эллисон Дженни|    2|\n|           Ник Кролл|    2|\n|         Фил Данстер|    1|\n|          Ли Сон-гюн|    1|\n|          Шайа ЛаБаф|    1|\n|        Ханна Мюррэй|    1|\n|        Клифф Кёртис|    1|\n|      Малика Лапшина|    1|\n|        Аарон Экхарт|    1|\n|    Хульета Эгуррола|    1|\n|          Люк Уилсон|    1|\n|         Сэм Клафлин|    1|\n|     Джейден Мартелл|    1|\n| Луис Херардо Мендес|    1|\n|      Кристен Стюарт|    1|\n|     Сьюки Уотерхаус|    1|\n|   Виталий Герасимов|    1|\n|           Люк Эванс|    1|\n|      Анастасия Хилл|    1|\n|   Фернанда Кастильо|    1|\n|       Katie Proctor|    1|\n|       Хииро Исибаси|    1|\n|       Мишель Клеман|    1|\n|        Ана де Армас|    1|\n|         Joey Sordyl|    1|\n|       Джереми Ирвин|    1|\n|         Трин Миллер|    1|\n|    Марк Льюис Джонс|    1|\n|       Патрик Годфри|    1|\n|       Рэй Маккиннон|    1|\n|      Павел Ворожцов|    1|\n|     Дамиан Алькасар|    1|\n| Александр Старченко|    1|\n|         Том Шиллинг|    1|\n|        Алек Болдуин|    1|\n|            Джош Гад|    1|\n|        Сесиль Морел|    1|\n|      Дакота Джонсон|    1|\n|Анна Михалкова Ан...|    1|\n|          Mark Birch|    1|\n|   Алексей Агранович|    1|\n|       Хоакин Феникс|    1|\n|     Ксавьер Алькиза|    1|\n|       Филипп Авдеев|    1|\n|         Джим Картер|    1|\n|       Юлия Высоцкая|    1|\n|          Одесса Янг|    1|\n|        Дэниэл Крэйг|    1|\n|     Клим Бердинский|    1|\n|        Кико Хауреги|    1|\n|      Валерия Голино|    1|\n|      Туре Линдхардт|    1|\n|        Самир Буатар|    1|\n|         Матс Элдоэн|    1|\n|Ода Осволл Аватсмарк|    1|\n|    Александр Людвиг|    1|\n|          Хайди Клум|    1|\n|         Стивен Фрай|    1|\n|     Линда И Гринвуд|    1|\n|         Мэтт Дэймон|    1|\n|      Джей Джей Филд|    1|\n|      Лилия Багирова|    1|\n|     Сергей Рудзевич|    1|\n|       Рокко Амезкуа|    1|\n|Константин Хабенс...|    1|\n|       Вадим Галыгин|    1|\n|      Альфред Молина|    1|\n| Александр Стриженов|    1|\n|        Кристен Белл|    1|\n|        Шоун Флетчер|    1|\n|   Сергей Маковецкий|    1|\n|         Юрий Трубин|    1|\n|      Марта Плимптон|    1|\n|          Пак Со-дам|    1|\n|            Юлия Ауг|    1|\n|          Крис Эванс|    1|\n|      Арман Буланжер|    1|\n|         Эван Джогиа|    1|\n|     Елизавета Моряк|    1|\n|     Эмили Элин Линд|    1|\n|     Таппенс Мидлтон|    1|\n|     Ольга Тумайкина|    1|\n|       Тьерри Фремон|    1|\n|       Софиа Форрест|    1|\n|     Эван Рэйчел Вуд|    1|\n|          Сон Кан-хо|    1|\n|        Дино Андраде|    1|\n|      Олеся Железняк|    1|\n|          Нэнси Джек|    1|\n|        Жозефин Жапи|    1|\n|       Люк Клеинтенк|    1|\n|        Катрина Балф|    1|\n|Анна Котова-Дерябина|    1|\n|       Джэйк Робертс|    1|\n|        Крис Хитченс|    1|\n|        Аксель Праль|    1|\n|     Кэролин Хеннеси|    1|\n|       Себастьян Кох|    1|\n|    Екатерина Гусева|    1|\n|       Стефани Кулон|    1|\n|          Сет Майклс|    1|\n|       Дэбби Ханивуд|    1|\n|         Анна Ардова|    1|\n|    Ребекка Фергюсон|    1|\n|        Тони Коллетт|    1|\n|       Жан Пьер Ноер|    1|\n|        Антуан Пилон|    1|\n|     Ирина Вербицкая|    1|\n|     Джонатан Солвей|    1|\n|      Василий Рихтер|    1|\n|          Мэттью Гуд|    1|\n|   Лукерья Ильяшенко|    1|\n|       Мишель Докери|    1|\n|Андер Вильдосола ...|    1|\n|       Патрик Стюарт|    1|\n|    Светлана Иванова|    1|\n|       Бруно Саломон|    1|\n|      Франсуа Сивиль|    1|\n|     Любовь Аксенова|    1|\n|      Маурицио Исаак|    1|\n|      Магда Шубански|    1|\n|         Аннабет Гиш|    1|\n|  Даниэль Макдональд|    1|\n|       Камилль Лелуш|    1|\n|Lily Dodsworth-Evans|    1|\n|      Зан Маккларнон|    1|\n|       Грант Тохатян|    1|\n|        Карлос Кобос|    1|\n|        Хелен Миррен|    1|\n|       Тору Ватанабэ|    1|\n|     Рикардо Эскерра|    1|\n|     Евгений Сидихин|    1|\n|    Джесси Айзенберг|    1|\n|   Юстус фон Донаньи|    1|\n|           Чо Ё-джон|    1|\n|          Эмма Стоун|    1|\n|       Эктор Бонилья|    1|\n| Хенриетта Фэй-Шолль|    1|\n|        Юрий Стоянов|    1|\n|          Бретт Азар|    1|\n|               Ю Аои|    1|\n|       Эди Паттерсон|    1|\n|     Рюносукэ Камики|    1|\n|       Алексей Чадов|    1|\n|       Кристина Орса|    1|\n|      Камила Амезкуа|    1|\n|           Мэтт Смит|    1|\n|         Рассел Тови|    1|\n|Александр Трачевский|    1|\n|        Шиван Фэллон|    1|\n|         Джуно Темпл|    1|\n|        Ноэми Мерлан|    1|\n|        Хуан Минухин|    1|\n|         Анн Дорваль|    1|\n|         Адель Энель|    1|\n|  Юрий Колокольников|    1|\n|       Дэниэл Хорват|    1|\n|      Вибеке Дюхольм|    1|\n|        Эмма Робертс|    1|\n|    Александр Петров|    1|\n|        Федор Лавров|    1|\n|     Сантино Фонтана|    1|\n|       Зак Готтзаген|    1|\n|          Мартин Гор|    1|\n|        Виталий Хаев|    1|\n|           Юки Кадзи|    1|\n|        Гэбриел Луна|    1|\n|       Патрик Уилсон|    1|\n|        Брюс Гринвуд|    1|\n|      Александр Паль|    1|\n|           Аллен Лич|    1|\n|        Уин Морисаки|    1|\n|  Элизабет Макговерн|    1|\n|  Сюзана Баллестерос|    1|\n|        Майкл Мэдсен|    1|\n|Владимир Вдовиченков|    1|\n|       Роман Мадянов|    1|\n|     Мишель Пфайффер|    1|\n|      Кристель Барас|    1|\n| Анастасия Филиппова|    1|\n|           Эдит Скоб|    1|\n|      Кана Ханадзава|    1|\n|        Нелл Уильямс|    1|\n|   Евгения Образцова|    1|\n|Ребекка Ронде Кил...|    1|\n|        Кана Итиносэ|    1|\n|     Сергей Безруков|    1|\n|         Галья Майер|    1|\n|      Розмари ДеУитт|    1|\n|         Мемо Апонте|    1|\n|            Ноа Джуп|    1|\n|   Тимофей Трибунцев|    1|\n|      Джон Саманьего|    1|\n|        Антон Риваль|    1|\n|        Нина Сеникар|    1|\n|      Кристина Асмус|    1|\n|       Андреа Пьетра|    1|\n|        Павел Баршак|    1|\n|            Мик Фоли|    1|\n|          Мана Асида|    1|\n|         Эль Фаннинг|    1|\n| БоГотье де Кермоаль|    1|\n|       Луана Байрами|    1|\n|          Ася Озтюрк|    1|\n|          Пол Чахиди|    1|\n|   Томас Хейден Чёрч|    1|\n|    Джейми Ли Кёртис|    1|\n|       Рикардо Дарин|    1|\n|       Елена Борщева|    1|\n|      Розарио Доусон|    1|\n|              Шакира|    1|\n|      Кандидо Уранга|    1|\n|           Паула Бир|    1|\n|   Матрея Скаррвинер|    1|\n|         Джонни Депп|    1|\n|           Нана Мори|    1|\n|          Луис Рубио|    1|\n|        Габриэль Пик|    1|\n|Габриэль Д’Алмейд...|    1|\n|      Нина Дробышева|    1|\n|          Мин Танака|    1|\n|      Манью Элисондо|    1|\n|          Эрик Холми|    1|\n|    Женевьева Моррис|    1|\n|    Джоселин Донахью|    1|\n|   Константин Райкин|    1|\n|Йоуханнес Хёйкьюр...|    1|\n|       Инга Оболдина|    1|\n|      Тамара Муженко|    1|\n|     Харрис Дикинсон|    1|\n|           Сиан Брук|    1|\n|     Мария Скуратова|    1|\n|       Сэисю Урагами|    1|\n|     Эбигейл Бреслин|    1|\n|       Иэн Драйсдейл|    1|\n|Михаэль Зуков Мар...|    1|\n|        Деннис Куэйд|    1|\n|     Сэмюэль Барнетт|    1|\n|          Кенто Сано|    1|\n|         Лори Холден|    1|\n|        Дзюнко Фудзи|    1|\n|    Сара Коэн-Хадриа|    1|\n|         Иэн Хардинг|    1|\n|           Шэйн Борн|    1|\n|         Жюль Херман|    1|\n|        Харриет Гост|    1|\n|          Луис Дюбюк|    1|\n|           Сюн Огури|    1|\n|       Джеймс Франко|    1|\n|       Рон Ливингсто|    1|\n|     Артем Маркарьян|    1|\n|Сергей Чирков Пав...|    1|\n|    Марина Васильева|    1|\n|       Эйса Гонсалес|    1|\n|       Андреас Шмидт|    1|\n|     Ксения Кутепова|    1|\n|    Кортни Хэлверсон|    1|\n| Бенедикт Камбербэтч|    1|\n|       Франк Бенезек|    1|\n|    Кристина Милиция|    1|\n|             Омар Си|    1|\n|        Alfie Dobson|    1|\n|         Чан Хе-джин|    1|\n|       Ross Brewster|    1|\n|       Ханно Коффлер|    1|\n|      Коннор Андраде|    1|\n|     Евгения Громова|    1|\n|        Марк Райлэнс|    1|\n|      Иван Макаревич|    1|\n|    Марина Де Тавира|    1|\n|          Джош Лукас|    1|\n|    Дмитрий Лысенков|    1|\n|      Джереми Реннер|    1|\n|        Сабрина Керн|    1|\n|        Ксавье Долан|    1|\n|        Цубаса Хонда|    1|\n|Даниил Муравьев-И...|    1|\n|         Наоми Скотт|    1|\n|      Стиг Дж. Хаген|    1|\n|    Виктория Исакова|    1|\n|      Роберт Де Ниро|    1|\n|       Кристиан Бэйл|    1|\n|    Шарлотта Фрогнер|    1|\n|      Лакит Стэнфилд|    1|\n|      Клаудия Фонтан|    1|\n|    Анжелика Хьюстон|    1|\n|        Чарли Хюбнер|    1|\n|       Элла Балинска|    1|\n|       Софья Озерова|    1|\n|   Максим Виноградов|    1|\n|        Джимон Хонсу|    1|\n|        Анна Христич|    1|\n|          Марк Бёрнс|    1|\n|        Лиза Климова|    1|\n|      Игорь Черневич|    1|\n|     Анджелина Джоли|    1|\n|      Джейкоб Уорнер|    1|\n|       Клеман Буассу|    1|\n|    Саския Розендаль|    1|\n|        Петер Фрёдин|    1|\n|        Даррен Крисс|    1|\n|    Джейкоб Тремблей|    1|\n|           Джон Клиз|    1|\n|       н Линда Эмонд|    1|\n|       Мартин Забала|    1|\n|       Брук Сатчуэлл|    1|\n|        Трэйси Леттс|    1|\n|        Идина Мензел|    1|\n|        Джульетт Дол|    1|\n|      Жан-Поль Гуйон|    1|\n|          Макс Браун|    1|\n|     Бенжамен Лаверн|    1|\n|  Дмитрий Глуховский|    1|\n|      Элизабет Бэнкс|    1|\n|        Киран Хайндс|    1|\n|       Гленн Флешлер|    1|\n|         Арвед Фризе|    1|\n|        Диего Бонета|    1|\n|        Линдсэй Сейм|    1|\n|      Мария Миронова|    1|\n|      Сэй Хираидзуми|    1|\n|      Артем Ткаченко|    1|\n|        Пётр Фёдоров|    1|\n|       Норман Бриски|    1|\n|       Рехина Ороско|    1|\n|    Айнцане Круэйрас|    1|\n|           Дэйзи Хэд|    1|\n| Анастасия Васильева|    1|\n|  Сильверио Паласиос|    1|\n|      Джонатан Такер|    1|\n|          Дэвид Гаан|    1|\n|            Yelawolf|    1|\n|       Эндрю Флетчер|    1|\n|         Дэн Эйкройд|    1|\n|           Люси Арон|    1|\n|       Милла Йовович|    1|\n|          Сонни Лэхи|    1|\n|         Тиэко Байсё|    1|\n|      Джейсон Риттер|    1|\n|   Салливан Степлтон|    1|\n|      Иван Янковский|    1|\n|         Сьюзи Пауэр|    1|\n|        Гай Деламарш|    1|\n|           Жан Нанга|    1|\n|       Девон Террелл|    1|\n|           Зази Битц|    1|\n|      Мерседес Моран|    1|\n|      Алексей Колган|    1|\n|          Мэгги Смит|    1|\n|        Джонни Флинн|    1|\n|          Джон Хоукс|    1|\n|        Кейт Филлипс|    1|\n|       Дэнни Хьюстон|    1|\n|           Брюс Дерн|    1|\n|     Кэтрин Лэнгфорд|    1|\n|   Амори де Крэенкур|    1|\n|           Шей Уигэм|    1|\n|   Стерлинг К. Браун|    1|\n|   Джон Пол Коннолли|    1|\n|        Котаро Дайго|    1|\n|      Лаура Кармайкл|    1|\n|      Джонатан Грофф|    1|\n|        Сергей Годин|    1|\n|        Ной Сентинео|    1|\n|        Горо Инагаки|    1|\n|           Мэнди Мур|    1|\n|          Арно Валуа|    1|\n|     Евгений Цыганов|    1|\n|    Александр Балуев|    1|\n|           Дани Арто|    1|\n|         Соси Бэйкон|    1|\n|          Чхве У-щик|    1|\n|       Пьер-Люк Фанк|    1|\n|      Иньяки Бераэче|    1|\n|             Сэм Нил|    1|\n|       Daniel Cassus|    1|\n|       Кирилл Нагиев|    1|\n|        Бретт Каллен|    1|\n|    Ксения Раппопорт|    1|\n|       Брайан Коллен|    1|\n|            Аквафина|    1|\n|        Генри Никсон|    1|\n|       Иэн Маккеллен|    1|\n|       Иван Решетняк|    1|\n|       Тереза Палмер|    1|\n|            Каи Корс|    1|\n|       Юэн Макгрегор|    1|\n|         Карл Ламбли|    1|\n|           Хосе Вера|    1|\n|          Rhys Stone|    1|\n|            Лео Билл|    1|\n|      Оливер Мазуччи|    1|\n|      Фрэнсис Конрой|    1|\n|Роберт Джеймс-Кол...|    1|\n|         Билл Мюррей|    1|\n|      Карел Стрёйкен|    1|\n|    Марит Андреассен|    1|\n|        Майкл Шеннон|    1|\n|        Лиам Бреннан|    1|\n|    Наталья Тенякова|    1|\n+--------------------+-----+\n\n"
     ],
     "output_type": "stream"
    }
   ],
   "source": [
    "movies_by_actors_df=movies_df.select(\"name\", explode(movies_df.actors).alias(\"actor_name\", \"data\"))\\\n",
    "    .groupBy('actor_name').count().orderBy(\"count\",ascending=False)\n",
    "\n",
    "movies_by_actors_df.show(2000)"
   ],
   "metadata": {
    "collapsed": false,
    "pycharm": {
     "name": "#%%\n",
     "is_executing": false
    }
   }
  },
  {
   "cell_type": "markdown",
   "source": [
    "Выполняем задание (от 2.11.2019)"
   ],
   "metadata": {
    "collapsed": false,
    "pycharm": {
     "name": "#%% md\n"
    }
   }
  },
  {
   "cell_type": "code",
   "execution_count": 14,
   "outputs": [],
   "source": [
    "from pyspark.sql.functions import monotonically_increasing_id\n",
    "\n",
    "movies_df=movies_df.withColumn(\"id\",monotonically_increasing_id())\n"
   ],
   "metadata": {
    "collapsed": false,
    "pycharm": {
     "name": "#%%\n",
     "is_executing": false
    }
   }
  },
  {
   "cell_type": "markdown",
   "source": [
    "Записываем в базу фильмы"
   ],
   "metadata": {
    "collapsed": false
   }
  },
  {
   "cell_type": "code",
   "execution_count": 15,
   "outputs": [],
   "source": [
    "movies_df\\\n",
    "    .select('id','url','name','is_premiere','age_rank','native_film_name',\n",
    "            'poster_url','duration','showing_end_date','description')\\\n",
    "    .write\\\n",
    "    .mode(\"append\")\\\n",
    "    .format(\"jdbc\")\\\n",
    "    .option(\"driver\", \"org.postgresql.Driver\")\\\n",
    "    .option(\"url\", \"jdbc:postgresql:postgres\")\\\n",
    "    .option(\"dbtable\", \"movie\")\\\n",
    "    .option(\"user\", \"postgres\")\\\n",
    "    .option(\"password\", \"postgres\")\\\n",
    "    .save()\n"
   ],
   "metadata": {
    "collapsed": false,
    "pycharm": {
     "name": "#%%\n",
     "is_executing": false
    }
   }
  },
  {
   "cell_type": "markdown",
   "source": [
    "Записываем жанры в базу данных"
   ],
   "metadata": {
    "collapsed": false
   }
  },
  {
   "cell_type": "code",
   "execution_count": 16,
   "outputs": [],
   "source": [
    "def get_data_from_dict_to_filling_db(dict_value_column_name,\n",
    "                                     entity_column_name,additional_info_column_name,table_name):\n",
    "    exploded=movies_df\\\n",
    "        .select('id',explode(movies_df[dict_value_column_name]).alias(entity_column_name,'data'))\n",
    "    table_data=exploded\\\n",
    "        .withColumn(additional_info_column_name,exploded[\"data.\"+additional_info_column_name])\\\n",
    "        .select(entity_column_name,additional_info_column_name)\\\n",
    "        .distinct()\\\n",
    "        .withColumn(\"id\",monotonically_increasing_id())\n",
    "    link_table_data=exploded\\\n",
    "        .join(table_data, exploded[entity_column_name]==table_data[entity_column_name])\\\n",
    "        .select(exploded.id.alias(\"movie_id\"),table_data.id.alias(table_name+\"_id\"))\n",
    "    return table_data,link_table_data\n",
    "\n",
    "def insert_data_to_databases(table_name,table_data,link_table_data):\n",
    "    table_data.write\\\n",
    "        .mode(\"append\")\\\n",
    "        .format(\"jdbc\")\\\n",
    "        .option(\"driver\", \"org.postgresql.Driver\")\\\n",
    "        .option(\"url\", \"jdbc:postgresql:postgres\")\\\n",
    "        .option(\"dbtable\", table_name)\\\n",
    "        .option(\"user\", \"postgres\")\\\n",
    "        .option(\"password\", \"postgres\")\\\n",
    "        .save()\n",
    "\n",
    "    link_table_data.write\\\n",
    "        .mode(\"append\")\\\n",
    "        .format(\"jdbc\")\\\n",
    "        .option(\"driver\", \"org.postgresql.Driver\")\\\n",
    "        .option(\"url\", \"jdbc:postgresql:postgres\")\\\n",
    "        .option(\"dbtable\", \"movie_\"+table_name+\"_link\")\\\n",
    "        .option(\"user\", \"postgres\")\\\n",
    "        .option(\"password\", \"postgres\")\\\n",
    "        .save()\n",
    "\n",
    "\n",
    "\n",
    "\n",
    "\n",
    "genres_table_data,movie_genres_link_table_data=\\\n",
    "    get_data_from_dict_to_filling_db(\"genres\",\"name\",\"url\",\"genre\")\n",
    "insert_data_to_databases(\"genre\",genres_table_data,movie_genres_link_table_data)"
   ],
   "metadata": {
    "collapsed": false,
    "pycharm": {
     "name": "#%%\n",
     "is_executing": false
    }
   }
  },
  {
   "cell_type": "markdown",
   "source": [
    "Записываем год производства в базу данных"
   ],
   "metadata": {
    "collapsed": false
   }
  },
  {
   "cell_type": "code",
   "execution_count": 17,
   "outputs": [],
   "source": [
    "from pyspark.sql.types import IntegerType\n",
    "year_table_data=movies_df\\\n",
    "        .select('year_of_movie.year','year_of_movie.url')\\\n",
    "        .distinct()\\\n",
    "        .withColumn(\"id\",monotonically_increasing_id())\n",
    "year_table_data=year_table_data.withColumn(\"year\",year_table_data.year.cast(IntegerType()))\n",
    "movie_year_link_table_data=movies_df\\\n",
    "        .join(year_table_data, movies_df.year_of_movie.year== year_table_data.year)\\\n",
    "        .select(movies_df.id.alias(\"movie_id\"),year_table_data.id.alias(\"year_id\"))\n",
    "\n",
    "insert_data_to_databases(\"year\",year_table_data,movie_year_link_table_data)"
   ],
   "metadata": {
    "collapsed": false,
    "pycharm": {
     "name": "#%%\n",
     "is_executing": false
    }
   }
  },
  {
   "cell_type": "markdown",
   "source": [
    "Записываем страны производства в базу данных\n"
   ],
   "metadata": {
    "collapsed": false,
    "pycharm": {
     "name": "#%% md\n"
    }
   }
  },
  {
   "cell_type": "code",
   "execution_count": 18,
   "outputs": [],
   "source": [
    "def get_data_from_set_to_filling_db(dict_value_column_name,\n",
    "                                     entity_column_name,table_name):\n",
    "    exploded=movies_df\\\n",
    "        .select('id',explode(movies_df[dict_value_column_name]).alias(entity_column_name))\n",
    "    table_data=exploded\\\n",
    "        .select(entity_column_name)\\\n",
    "        .distinct()\\\n",
    "        .withColumn(\"id\",monotonically_increasing_id())\n",
    "    link_table_data=exploded\\\n",
    "        .join(table_data, exploded[entity_column_name]==table_data[entity_column_name])\\\n",
    "        .select(exploded.id.alias(\"movie_id\"),table_data.id.alias(table_name+\"_id\"))\n",
    "    return table_data,link_table_data\n",
    "\n",
    "countries_table_data,movie_countries_table_data=\\\n",
    "    get_data_from_set_to_filling_db(\"countries\",\"country\",\"country\")\n",
    "\n",
    "insert_data_to_databases(\"country\",countries_table_data,movie_countries_table_data)"
   ],
   "metadata": {
    "collapsed": false,
    "pycharm": {
     "name": "#%%\n",
     "is_executing": false
    }
   }
  },
  {
   "cell_type": "markdown",
   "source": [
    "\n",
    "Записываем рейтинги в базу данных"
   ],
   "metadata": {
    "collapsed": false
   }
  },
  {
   "cell_type": "code",
   "execution_count": 19,
   "outputs": [],
   "source": [
    "exploded_ratings=movies_df\\\n",
    "        .select('id',explode(movies_df.ratings).alias('rating','value'))\n",
    "\n",
    "movie_ratings_table_data=exploded_ratings.select(\"rating\")\\\n",
    "    .distinct()\\\n",
    "    .withColumn(\"id\",monotonically_increasing_id())\n",
    "\n",
    "movie_rating_link_table_data=exploded_ratings\\\n",
    "    .join(movie_ratings_table_data, exploded_ratings.rating==movie_ratings_table_data.rating)\\\n",
    "    .select(exploded_ratings.id.alias(\"movie_id\"),movie_ratings_table_data.id.alias(\"rating_id\"),\n",
    "            exploded_ratings.value)\n",
    "\n",
    "insert_data_to_databases(\"rating\",movie_ratings_table_data,movie_rating_link_table_data)"
   ],
   "metadata": {
    "collapsed": false,
    "pycharm": {
     "name": "#%%\n",
     "is_executing": false
    }
   }
  },
  {
   "cell_type": "markdown",
   "source": [
    "Записываем режисеров в базу данных"
   ],
   "metadata": {
    "collapsed": false
   }
  },
  {
   "cell_type": "code",
   "execution_count": 20,
   "outputs": [],
   "source": [
    "directors_table_data,movie_directors_link_table_data=\\\n",
    "    get_data_from_dict_to_filling_db(\"directors\",\"name\",\"additional_information\",\"director\")\n",
    "\n",
    "insert_data_to_databases(\"director\",directors_table_data,movie_directors_link_table_data)"
   ],
   "metadata": {
    "collapsed": false,
    "pycharm": {
     "name": "#%%\n",
     "is_executing": false
    }
   }
  },
  {
   "cell_type": "markdown",
   "source": [
    "Записываем актеров в базу данных"
   ],
   "metadata": {
    "collapsed": false
   }
  },
  {
   "cell_type": "code",
   "execution_count": 21,
   "outputs": [],
   "source": [
    "actors_table_data,movie_actors_link_table_data=\\\n",
    "    get_data_from_dict_to_filling_db(\"actors\",\"name\",\"additional_information\",\"actor\")\n",
    "\n",
    "insert_data_to_databases(\"actor\",actors_table_data,movie_actors_link_table_data)"
   ],
   "metadata": {
    "collapsed": false,
    "pycharm": {
     "name": "#%%\n",
     "is_executing": false
    }
   }
  },
  {
   "cell_type": "markdown",
   "source": [
    "Записываем ссылки на видео в базу данных"
   ],
   "metadata": {
    "collapsed": false
   }
  },
  {
   "cell_type": "code",
   "execution_count": 22,
   "outputs": [],
   "source": [
    "def insert_videos_and_pictures_data(column_name,table_name):\n",
    "    exploded=movies_df\\\n",
    "        .select('id',explode(movies_df[column_name]).alias(\"url\"))\n",
    "    exploded.write\\\n",
    "        .mode(\"append\")\\\n",
    "        .format(\"jdbc\")\\\n",
    "        .option(\"driver\", \"org.postgresql.Driver\")\\\n",
    "        .option(\"url\", \"jdbc:postgresql:postgres\")\\\n",
    "        .option(\"dbtable\", \"movie_\"+table_name+\"_link\")\\\n",
    "        .option(\"user\", \"postgres\")\\\n",
    "        .option(\"password\", \"postgres\")\\\n",
    "        .save()\n",
    "    \n",
    "insert_videos_and_pictures_data(\"film_videos\",\"video\")"
   ],
   "metadata": {
    "collapsed": false,
    "pycharm": {
     "name": "#%%\n",
     "is_executing": false
    }
   }
  },
  {
   "cell_type": "markdown",
   "source": [
    "Записываем ссылки на картинки в базу данных"
   ],
   "metadata": {
    "collapsed": false,
    "pycharm": {
     "name": "#%% md\n"
    }
   }
  },
  {
   "cell_type": "code",
   "execution_count": 23,
   "outputs": [],
   "source": [
    "insert_videos_and_pictures_data(\"film_images\",\"image\")"
   ],
   "metadata": {
    "collapsed": false,
    "pycharm": {
     "name": "#%%\n",
     "is_executing": false
    }
   }
  }
 ],
 "metadata": {
  "kernelspec": {
   "display_name": "Python 3",
   "language": "python",
   "name": "python3"
  },
  "language_info": {
   "codemirror_mode": {
    "name": "ipython",
    "version": 2
   },
   "file_extension": ".py",
   "mimetype": "text/x-python",
   "name": "python",
   "nbconvert_exporter": "python",
   "pygments_lexer": "ipython2",
   "version": "2.7.6"
  },
  "pycharm": {
   "stem_cell": {
    "cell_type": "raw",
    "source": [],
    "metadata": {
     "collapsed": false
    }
   }
  }
 },
 "nbformat": 4,
 "nbformat_minor": 0
}